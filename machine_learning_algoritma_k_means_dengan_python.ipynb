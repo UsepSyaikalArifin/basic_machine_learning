{
 "cells": [
  {
   "cell_type": "markdown",
   "metadata": {},
   "source": [
    "<h2>Clustering</h2>\n",
    "<h4>==============================================</h4>\n",
    "<h3><strong>Teori</strong></h3>\n",
    "<ul>\n",
    "  <li>Algoritma Machine Learning Lazimmnya Terbagi 3</li>\n",
    "  <ol>\n",
    "    <li>Supervised Learning</li>\n",
    "    <li>Unsupervised Learning</li>\n",
    "    <li>Reinforcement Learning</li>\n",
    "  </ol>\n",
    "  <li>Definisi Clustering</li>\n",
    "  <ul>\n",
    "    <li><strong>Clustering</strong> : Salah satu Algortima Machine Learning dengan kategori Unsupervised Learning</li>\n",
    "    <li><strong>Clustering</strong> : Salah satu teknik analisis data untuk memahami data dengan mengelompokan data data tersebut ke dalam beberapa cluster</li>\n",
    "    <li><strong>Clustering</strong> : Data - data dikelompokan berdasarkan kesamaan atau kemiripan karakteristik</li>\n",
    "  </ul>\n",
    "</ul>"
   ]
  },
  {
   "cell_type": "markdown",
   "metadata": {},
   "source": [
    "<h2>Apa itu <strong>K-Means Clustering</strong></h2>\n",
    "<h4>==================================================================</h4>\n",
    "<h3>Definisi</h3>\n",
    "<ul>\n",
    "  <li><strong>K-Means Clustering</strong> : Salah satu <strong>\"Unsupervised Machine Learning Algorithms\"</strong> yang paling sederhana dan populer</li>\n",
    "  <li><strong>K-Means Clustering</strong> : <strong>\"Syarat Syarat Data\"</strong></li>\n",
    "  <ul>\n",
    "    <li>Data bertipe <strong>Data Numerik</strong></li>\n",
    "    <li>Data harus <strong>Data yang bisa di Urutkan</strong></li>\n",
    "  </ul>\n",
    "</ul>"
   ]
  },
  {
   "cell_type": "markdown",
   "metadata": {},
   "source": [
    "<h2>Proses K - Means Clustering</h2>\n",
    "<h4>=====================================</h4>\n",
    "<h3>Langkah - Langkah Proses K - Means Clustering</h3>\n",
    "<ol>\n",
    "  <li>Menentukan jumlah cluster k, dilakukan secara manual</li>\n",
    "  <li>Inisialisasi nilai centroid secara random sejumlah k</li>\n",
    "  <ul>\n",
    "    <li><strong>Centroid</strong> : Centroid merupakan nilai pusat (center) dari sebuah cluster</li>\n",
    "  </ul>\n",
    "  <li>Menetapkan setiap data point ke centroid terdekat</li>\n",
    "  <ul>\n",
    "    <li>Proses menghitung jarak setiap data dengan centroid. Perhitungan jarak menggunakan metode <strong>Euclidean Distance</strong></li>\n",
    "  </ul>\n",
    "  <li>Menghitung ulang nilai centroid daru cluster yang baru terbentuk</li>\n",
    "  <ul>\n",
    "    <li>Proses ini dilakukan menghitung nilai <strong>Means</strong> dari setiap data points di dalam cluster tersebut</li>\n",
    "  </ul>\n",
    "  <li>Mengulang step 3 dan 4 untuk mengoptimasi posisi dari centroid sampai kriteria berhenti terpenuhi</li>\n",
    "  <h5><strong>Stopping Criteria</strong></h5>\n",
    "  <h5>Poin - poin di bawah ini merupakan kriteria berhenti dalam algoritma K - Means Clustering</h5>\n",
    "  <ul>\n",
    "    <li>Nilai centroid sudat tidak berubah</li>\n",
    "    <li>Data point tetap berada pada cluster yang sama</li>\n",
    "    <li>Jumlah iterasi maksimum telah tercapai</li>\n",
    "  </ul>\n",
    "</ol>"
   ]
  },
  {
   "cell_type": "markdown",
   "metadata": {},
   "source": [
    "<h2>Kelebihan & Kelemahan dari K-Means</h2>\n",
    "<ul>\n",
    "  <li><strong>Kelebihan dari K - Means</strong></li>\n",
    "  <ol>\n",
    "    <li>Relatif mudah untuk diimplementasikan dan mudah untuk dipahami</li>\n",
    "    <li>Waktu yang dibutuhkan untuk pembelajaran relatif lebih cepat</li>\n",
    "    <li>Sangat umum digunakan sebagai teknik clustering</li>\n",
    "  </ol>\n",
    "  <li><strong>Kekurangan dari K - Means</strong></li>\n",
    "  <ol>\n",
    "    <li>Memerlukan inisialisasi nilai k sehingga perlu menggunakan metode lain untuk mendapatkan nilai k yang optimal</li>\n",
    "    <li>Apabila nilai acak untuk centroid kurang baik, maka hasil clustering yang didapatkan menjadi tidak optimal</li>\n",
    "    <li>Algoritma ini akan kesulitan untuk mencari jarak dari data banyak dimensi</li>\n",
    "  </ol>\n",
    "</ul>"
   ]
  },
  {
   "cell_type": "markdown",
   "metadata": {},
   "source": [
    "<h2>Tipe - Tipe Masalah yang Dapat Diselesaikan dengan K - Means</h2>\n",
    "<h3>=================================================================</h3>\n",
    "<ol>\n",
    "  <li><strong>Segmentasi Pasar</strong></li>\n",
    "  <ul>\n",
    "    <li>Algoritma K-Means sering digunakan untuk segmentasi pelanggan dengan tujuan untuk pemberian promosi khusus, iklan, kelayakan penerimaan kredit bank, dan sebagainya</li>\n",
    "  </ul>\n",
    "  <li><strong>Pengelompokan Dokumen</strong></li>\n",
    "  <ul>\n",
    "    <li>Algoritma K-Means dapat digunakan untuk mengelompokkan dokumen yang serupa. Contoh: pengelompokkan berita. Seseorang dapat menentukan kategori berita yang tepat berdasarkan berita-berita yang sudah dikelompokkan</li>\n",
    "  </ul>\n",
    "  <li><strong>Sistem Rekomendasi</strong></li>\n",
    "  <ul>\n",
    "    <li>Algoritma K-Means dapat digunakan untuk sistem rekomendasi. Contoh: rekomendasi lagu. Aplikasi dapat memberikan rekomendasi lagu berdasarkan lagu-lagu yang telah didengarkan pengguna, kemudian merekomendasikan lagu yang paling mirip</li>\n",
    "  </ul>\n",
    "</ol>"
   ]
  }
 ],
 "metadata": {
  "kernelspec": {
   "display_name": "Python 3",
   "language": "python",
   "name": "python3"
  },
  "language_info": {
   "codemirror_mode": {
    "name": "ipython",
    "version": 3
   },
   "file_extension": ".py",
   "mimetype": "text/x-python",
   "name": "python",
   "nbconvert_exporter": "python",
   "pygments_lexer": "ipython3",
   "version": "3.11.2"
  }
 },
 "nbformat": 4,
 "nbformat_minor": 2
}
