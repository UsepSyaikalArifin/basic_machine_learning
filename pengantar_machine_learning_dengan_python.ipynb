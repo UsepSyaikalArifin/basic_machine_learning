{
 "cells": [
  {
   "cell_type": "code",
   "execution_count": 2,
   "metadata": {},
   "outputs": [],
   "source": [
    "# Mengimport Library\n",
    "import pandas as pd"
   ]
  },
  {
   "cell_type": "code",
   "execution_count": 7,
   "metadata": {},
   "outputs": [
    {
     "name": "stdout",
     "output_type": "stream",
     "text": [
      "   Unnamed: 0 kode_kontrak  pendapatan_setahun_juta kpr_aktif  \\\n",
      "0           0   AGR-000001                      295        YA   \n",
      "1           1   AGR-000011                      271        YA   \n",
      "2           2   AGR-000030                      159     TIDAK   \n",
      "3           3   AGR-000043                      210        YA   \n",
      "4           4   AGR-000049                      165     TIDAK   \n",
      "\n",
      "   durasi_pinjaman_bulan  jumlah_tanggungan rata_rata_overdue  risk_rating  \n",
      "0                     48                  5      61 - 90 days            4  \n",
      "1                     36                  5      61 - 90 days            4  \n",
      "2                     12                  0       0 - 30 days            1  \n",
      "3                     12                  3      46 - 60 days            3  \n",
      "4                     36                  0      31 - 45 days            2  \n"
     ]
    }
   ],
   "source": [
    "# Membaca Dataset\n",
    "dataset_scoring_dqlab = pd.read_excel(r\"credit_scoring_dqlab.xlsx\")\n",
    "\n",
    "print(dataset_scoring_dqlab.head())"
   ]
  },
  {
   "cell_type": "code",
   "execution_count": null,
   "metadata": {},
   "outputs": [],
   "source": [
    "# Data Preparation\n"
   ]
  }
 ],
 "metadata": {
  "kernelspec": {
   "display_name": "Python 3",
   "language": "python",
   "name": "python3"
  },
  "language_info": {
   "codemirror_mode": {
    "name": "ipython",
    "version": 3
   },
   "file_extension": ".py",
   "mimetype": "text/x-python",
   "name": "python",
   "nbconvert_exporter": "python",
   "pygments_lexer": "ipython3",
   "version": "3.11.2"
  }
 },
 "nbformat": 4,
 "nbformat_minor": 2
}
