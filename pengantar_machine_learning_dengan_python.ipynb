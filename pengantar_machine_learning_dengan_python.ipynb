{
 "cells": [
  {
   "cell_type": "code",
   "execution_count": 1,
   "metadata": {},
   "outputs": [],
   "source": [
    "# Mengimport Library\n",
    "import pandas as pd\n",
    "from IPython.display import display\n",
    "pd.set_option('future.no_silent_downcasting', True)\n",
    "# # Tampilkan semua baris\n",
    "# pd.set_option('display.max_rows', None)\n",
    "\n",
    "# # Tampilkan semua kolom\n",
    "# pd.set_option('display.max_columns', None)\n",
    "\n",
    "# # Tampilkan semua data dalam satu baris tanpa wrap (memanjang ke samping)\n",
    "# pd.set_option('display.expand_frame_repr', False)\n",
    "\n",
    "# # Set lebar maksimal kolom agar tidak terpotong\n",
    "# pd.set_option('display.max_colwidth', None)"
   ]
  },
  {
   "cell_type": "code",
   "execution_count": 2,
   "metadata": {},
   "outputs": [
    {
     "name": "stdout",
     "output_type": "stream",
     "text": [
      "['Unnamed: 0', 'kode_kontrak', 'pendapatan_setahun_juta', 'kpr_aktif', 'durasi_pinjaman_bulan', 'jumlah_tanggungan', 'rata_rata_overdue', 'risk_rating']\n",
      "<class 'pandas.core.frame.DataFrame'>\n",
      "RangeIndex: 900 entries, 0 to 899\n",
      "Data columns (total 8 columns):\n",
      " #   Column                   Non-Null Count  Dtype \n",
      "---  ------                   --------------  ----- \n",
      " 0   Unnamed: 0               900 non-null    int64 \n",
      " 1   kode_kontrak             900 non-null    object\n",
      " 2   pendapatan_setahun_juta  900 non-null    int64 \n",
      " 3   kpr_aktif                900 non-null    object\n",
      " 4   durasi_pinjaman_bulan    900 non-null    int64 \n",
      " 5   jumlah_tanggungan        900 non-null    int64 \n",
      " 6   rata_rata_overdue        900 non-null    object\n",
      " 7   risk_rating              900 non-null    int64 \n",
      "dtypes: int64(5), object(3)\n",
      "memory usage: 56.4+ KB\n"
     ]
    },
    {
     "data": {
      "text/plain": [
       "None"
      ]
     },
     "metadata": {},
     "output_type": "display_data"
    },
    {
     "data": {
      "text/html": [
       "<div>\n",
       "<style scoped>\n",
       "    .dataframe tbody tr th:only-of-type {\n",
       "        vertical-align: middle;\n",
       "    }\n",
       "\n",
       "    .dataframe tbody tr th {\n",
       "        vertical-align: top;\n",
       "    }\n",
       "\n",
       "    .dataframe thead th {\n",
       "        text-align: right;\n",
       "    }\n",
       "</style>\n",
       "<table border=\"1\" class=\"dataframe\">\n",
       "  <thead>\n",
       "    <tr style=\"text-align: right;\">\n",
       "      <th></th>\n",
       "      <th>Unnamed: 0</th>\n",
       "      <th>kode_kontrak</th>\n",
       "      <th>pendapatan_setahun_juta</th>\n",
       "      <th>kpr_aktif</th>\n",
       "      <th>durasi_pinjaman_bulan</th>\n",
       "      <th>jumlah_tanggungan</th>\n",
       "      <th>rata_rata_overdue</th>\n",
       "      <th>risk_rating</th>\n",
       "    </tr>\n",
       "  </thead>\n",
       "  <tbody>\n",
       "    <tr>\n",
       "      <th>0</th>\n",
       "      <td>0</td>\n",
       "      <td>AGR-000001</td>\n",
       "      <td>295</td>\n",
       "      <td>YA</td>\n",
       "      <td>48</td>\n",
       "      <td>5</td>\n",
       "      <td>61 - 90 days</td>\n",
       "      <td>4</td>\n",
       "    </tr>\n",
       "    <tr>\n",
       "      <th>1</th>\n",
       "      <td>1</td>\n",
       "      <td>AGR-000011</td>\n",
       "      <td>271</td>\n",
       "      <td>YA</td>\n",
       "      <td>36</td>\n",
       "      <td>5</td>\n",
       "      <td>61 - 90 days</td>\n",
       "      <td>4</td>\n",
       "    </tr>\n",
       "    <tr>\n",
       "      <th>2</th>\n",
       "      <td>2</td>\n",
       "      <td>AGR-000030</td>\n",
       "      <td>159</td>\n",
       "      <td>TIDAK</td>\n",
       "      <td>12</td>\n",
       "      <td>0</td>\n",
       "      <td>0 - 30 days</td>\n",
       "      <td>1</td>\n",
       "    </tr>\n",
       "    <tr>\n",
       "      <th>3</th>\n",
       "      <td>3</td>\n",
       "      <td>AGR-000043</td>\n",
       "      <td>210</td>\n",
       "      <td>YA</td>\n",
       "      <td>12</td>\n",
       "      <td>3</td>\n",
       "      <td>46 - 60 days</td>\n",
       "      <td>3</td>\n",
       "    </tr>\n",
       "    <tr>\n",
       "      <th>4</th>\n",
       "      <td>4</td>\n",
       "      <td>AGR-000049</td>\n",
       "      <td>165</td>\n",
       "      <td>TIDAK</td>\n",
       "      <td>36</td>\n",
       "      <td>0</td>\n",
       "      <td>31 - 45 days</td>\n",
       "      <td>2</td>\n",
       "    </tr>\n",
       "  </tbody>\n",
       "</table>\n",
       "</div>"
      ],
      "text/plain": [
       "   Unnamed: 0 kode_kontrak  pendapatan_setahun_juta kpr_aktif  \\\n",
       "0           0   AGR-000001                      295        YA   \n",
       "1           1   AGR-000011                      271        YA   \n",
       "2           2   AGR-000030                      159     TIDAK   \n",
       "3           3   AGR-000043                      210        YA   \n",
       "4           4   AGR-000049                      165     TIDAK   \n",
       "\n",
       "   durasi_pinjaman_bulan  jumlah_tanggungan rata_rata_overdue  risk_rating  \n",
       "0                     48                  5      61 - 90 days            4  \n",
       "1                     36                  5      61 - 90 days            4  \n",
       "2                     12                  0       0 - 30 days            1  \n",
       "3                     12                  3      46 - 60 days            3  \n",
       "4                     36                  0      31 - 45 days            2  "
      ]
     },
     "metadata": {},
     "output_type": "display_data"
    }
   ],
   "source": [
    "# Membaca Dataset\n",
    "dataset_scoring_dqlab = pd.read_excel(\"file_excel\\credit_scoring_dqlab.xlsx\")\n",
    "\n",
    "print(dataset_scoring_dqlab.columns.to_list())\n",
    "display(dataset_scoring_dqlab.info())\n",
    "display(dataset_scoring_dqlab.head())"
   ]
  },
  {
   "cell_type": "code",
   "execution_count": 3,
   "metadata": {},
   "outputs": [
    {
     "name": "stdout",
     "output_type": "stream",
     "text": [
      "   pendapatan_setahun_juta kpr_aktif  durasi_pinjaman_bulan  \\\n",
      "0                      295        YA                     48   \n",
      "1                      271        YA                     36   \n",
      "2                      159     TIDAK                     12   \n",
      "3                      210        YA                     12   \n",
      "4                      165     TIDAK                     36   \n",
      "\n",
      "   jumlah_tanggungan rata_rata_overdue  risk_rating  \n",
      "0                  5      61 - 90 days            4  \n",
      "1                  5      61 - 90 days            4  \n",
      "2                  0       0 - 30 days            1  \n",
      "3                  3      46 - 60 days            3  \n",
      "4                  0      31 - 45 days            2  \n",
      "                          min    max\n",
      "pendapatan_setahun_juta  70.0  300.0\n",
      "durasi_pinjaman_bulan    12.0   48.0\n",
      "jumlah_tanggungan         0.0    6.0\n",
      "risk_rating               1.0    5.0\n"
     ]
    }
   ],
   "source": [
    "# Data Preparation - Part 1\n",
    "# Membuat dataset\n",
    "dataset = dataset_scoring_dqlab.drop(columns=[\"Unnamed: 0\", \"kode_kontrak\"], axis=1, inplace=False)\n",
    "print(dataset.head())\n",
    "print(dataset.describe().T[[\"min\",\"max\"]])"
   ]
  },
  {
   "cell_type": "code",
   "execution_count": 4,
   "metadata": {},
   "outputs": [
    {
     "name": "stdout",
     "output_type": "stream",
     "text": [
      "  kpr_aktif rata_rata_overdue\n",
      "0        YA      61 - 90 days\n",
      "1        YA      61 - 90 days\n",
      "2     TIDAK       0 - 30 days\n",
      "3        YA      46 - 60 days\n",
      "4     TIDAK      31 - 45 days\n",
      "['YA' 'TIDAK']\n",
      "['61 - 90 days' '0 - 30 days' '46 - 60 days' '31 - 45 days' '> 90 days']\n"
     ]
    }
   ],
   "source": [
    "# Mengubah data kpr_aktif menjadi tipe integer\n",
    "print(dataset[dataset.select_dtypes(\"object\").columns.to_list()].head())\n",
    "for column in dataset[dataset.select_dtypes(\"object\").columns.to_list()].columns.to_list():\n",
    "  print(dataset[dataset.select_dtypes(\"object\").columns.to_list()][column].unique())"
   ]
  },
  {
   "cell_type": "code",
   "execution_count": 5,
   "metadata": {},
   "outputs": [
    {
     "name": "stdout",
     "output_type": "stream",
     "text": [
      "   pendapatan_setahun_juta kpr_aktif  durasi_pinjaman_bulan  \\\n",
      "0                      295         1                     48   \n",
      "1                      271         1                     36   \n",
      "2                      159         0                     12   \n",
      "3                      210         1                     12   \n",
      "4                      165         0                     36   \n",
      "\n",
      "   jumlah_tanggungan rata_rata_overdue  risk_rating  \n",
      "0                  5      61 - 90 days            4  \n",
      "1                  5      61 - 90 days            4  \n",
      "2                  0       0 - 30 days            1  \n",
      "3                  3      46 - 60 days            3  \n",
      "4                  0      31 - 45 days            2  \n"
     ]
    }
   ],
   "source": [
    "dataset[\"kpr_aktif\"] = dataset[\"kpr_aktif\"].replace([\"YA\",\"TIDAK\"],[1, 0])\n",
    "print(dataset.head())"
   ]
  },
  {
   "cell_type": "code",
   "execution_count": 6,
   "metadata": {},
   "outputs": [
    {
     "name": "stdout",
     "output_type": "stream",
     "text": [
      "Nilai unik pada kolom rata_rata_overdue\n",
      "rata_rata_overdue\n",
      "46 - 60 days    291\n",
      "0 - 30 days     227\n",
      "31 - 45 days    159\n",
      "61 - 90 days    120\n",
      "> 90 days       103\n",
      "Name: count, dtype: int64 \n",
      "\n",
      "Nilai unik pada kolom rata_rata_overdue\n",
      "rata_rata_overdue\n",
      "60    291\n",
      "30    227\n",
      "45    159\n",
      "90    120\n",
      "91    103\n",
      "Name: count, dtype: int64 \n",
      "\n"
     ]
    },
    {
     "data": {
      "text/html": [
       "<div>\n",
       "<style scoped>\n",
       "    .dataframe tbody tr th:only-of-type {\n",
       "        vertical-align: middle;\n",
       "    }\n",
       "\n",
       "    .dataframe tbody tr th {\n",
       "        vertical-align: top;\n",
       "    }\n",
       "\n",
       "    .dataframe thead th {\n",
       "        text-align: right;\n",
       "    }\n",
       "</style>\n",
       "<table border=\"1\" class=\"dataframe\">\n",
       "  <thead>\n",
       "    <tr style=\"text-align: right;\">\n",
       "      <th></th>\n",
       "      <th>pendapatan_setahun_juta</th>\n",
       "      <th>kpr_aktif</th>\n",
       "      <th>durasi_pinjaman_bulan</th>\n",
       "      <th>jumlah_tanggungan</th>\n",
       "      <th>rata_rata_overdue</th>\n",
       "      <th>risk_rating</th>\n",
       "    </tr>\n",
       "  </thead>\n",
       "  <tbody>\n",
       "    <tr>\n",
       "      <th>0</th>\n",
       "      <td>295</td>\n",
       "      <td>1</td>\n",
       "      <td>48</td>\n",
       "      <td>5</td>\n",
       "      <td>90</td>\n",
       "      <td>4</td>\n",
       "    </tr>\n",
       "    <tr>\n",
       "      <th>1</th>\n",
       "      <td>271</td>\n",
       "      <td>1</td>\n",
       "      <td>36</td>\n",
       "      <td>5</td>\n",
       "      <td>90</td>\n",
       "      <td>4</td>\n",
       "    </tr>\n",
       "    <tr>\n",
       "      <th>2</th>\n",
       "      <td>159</td>\n",
       "      <td>0</td>\n",
       "      <td>12</td>\n",
       "      <td>0</td>\n",
       "      <td>30</td>\n",
       "      <td>1</td>\n",
       "    </tr>\n",
       "    <tr>\n",
       "      <th>3</th>\n",
       "      <td>210</td>\n",
       "      <td>1</td>\n",
       "      <td>12</td>\n",
       "      <td>3</td>\n",
       "      <td>60</td>\n",
       "      <td>3</td>\n",
       "    </tr>\n",
       "    <tr>\n",
       "      <th>4</th>\n",
       "      <td>165</td>\n",
       "      <td>0</td>\n",
       "      <td>36</td>\n",
       "      <td>0</td>\n",
       "      <td>45</td>\n",
       "      <td>2</td>\n",
       "    </tr>\n",
       "  </tbody>\n",
       "</table>\n",
       "</div>"
      ],
      "text/plain": [
       "   pendapatan_setahun_juta kpr_aktif  durasi_pinjaman_bulan  \\\n",
       "0                      295         1                     48   \n",
       "1                      271         1                     36   \n",
       "2                      159         0                     12   \n",
       "3                      210         1                     12   \n",
       "4                      165         0                     36   \n",
       "\n",
       "   jumlah_tanggungan rata_rata_overdue  risk_rating  \n",
       "0                  5                90            4  \n",
       "1                  5                90            4  \n",
       "2                  0                30            1  \n",
       "3                  3                60            3  \n",
       "4                  0                45            2  "
      ]
     },
     "metadata": {},
     "output_type": "display_data"
    }
   ],
   "source": [
    "# Data Preparation - Part 2\n",
    "## Memeriksa nilai unik pada kolom rata_rata_overdue\n",
    "print(\"Nilai unik pada kolom rata_rata_overdue\")\n",
    "print(dataset[\"rata_rata_overdue\"].value_counts(), \"\\n\")\n",
    "\n",
    "## Mengubah data rata_rata_overdue menjadi numerik\n",
    "mapping_dict = {\n",
    "  \"rata_rata_overdue\" : {\n",
    "    \"46 - 60 days\" : 60,\n",
    "    \"0 - 30 days\" : 30,\n",
    "    \"31 - 45 days\" : 45,\n",
    "    \"61 - 90 days\" : 90,\n",
    "    \"> 90 days\" : 91\n",
    "  }\n",
    "}\n",
    "\n",
    "dataset = dataset.replace(mapping_dict)\n",
    "\n",
    "## Memeriksa nilai unik pada kolom rata_rata_overdue\n",
    "print(\"Nilai unik pada kolom rata_rata_overdue\")\n",
    "print(dataset[\"rata_rata_overdue\"].value_counts(), \"\\n\")\n",
    "\n",
    "## Menampilkan dataset dengan kolom yang sudah diubah\n",
    "display(dataset.head())"
   ]
  },
  {
   "cell_type": "code",
   "execution_count": 7,
   "metadata": {},
   "outputs": [
    {
     "data": {
      "image/png": "[encoded data removed]",
      "text/plain": [
       "<Figure size 800x800 with 2 Axes>"
      ]
     },
     "metadata": {},
     "output_type": "display_data"
    }
   ],
   "source": [
    "# Menentukan Korelasi Data dengan Pearson Correlation\n",
    "## Melihat Korelasi Data\n",
    "import matplotlib.pyplot as plt\n",
    "import seaborn as sns\n",
    "\n",
    "f, ax = plt.subplots(figsize=(8,8))\n",
    "plt.title(\"Correlation Matrix Using Pearson Correlation\")\n",
    "sns.heatmap(\n",
    "  data=dataset.astype(float).corr(),\n",
    "  linewidths=0.25,\n",
    "  vmax=1,\n",
    "  square=True,\n",
    "  linecolor=\"black\",\n",
    "  annot=True,\n",
    "  cmap=sns.cubehelix_palette()\n",
    "  \n",
    ")\n",
    "plt.tight_layout()\n",
    "plt.show()"
   ]
  },
  {
   "cell_type": "code",
   "execution_count": 8,
   "metadata": {},
   "outputs": [
    {
     "data": {
      "text/html": [
       "<div>\n",
       "<style scoped>\n",
       "    .dataframe tbody tr th:only-of-type {\n",
       "        vertical-align: middle;\n",
       "    }\n",
       "\n",
       "    .dataframe tbody tr th {\n",
       "        vertical-align: top;\n",
       "    }\n",
       "\n",
       "    .dataframe thead th {\n",
       "        text-align: right;\n",
       "    }\n",
       "</style>\n",
       "<table border=\"1\" class=\"dataframe\">\n",
       "  <thead>\n",
       "    <tr style=\"text-align: right;\">\n",
       "      <th></th>\n",
       "      <th>kpr_aktif</th>\n",
       "      <th>jumlah_tanggungan</th>\n",
       "      <th>rata_rata_overdue</th>\n",
       "      <th>risk_rating</th>\n",
       "    </tr>\n",
       "  </thead>\n",
       "  <tbody>\n",
       "    <tr>\n",
       "      <th>0</th>\n",
       "      <td>1</td>\n",
       "      <td>5</td>\n",
       "      <td>90</td>\n",
       "      <td>4</td>\n",
       "    </tr>\n",
       "    <tr>\n",
       "      <th>1</th>\n",
       "      <td>1</td>\n",
       "      <td>5</td>\n",
       "      <td>90</td>\n",
       "      <td>4</td>\n",
       "    </tr>\n",
       "    <tr>\n",
       "      <th>2</th>\n",
       "      <td>0</td>\n",
       "      <td>0</td>\n",
       "      <td>30</td>\n",
       "      <td>1</td>\n",
       "    </tr>\n",
       "    <tr>\n",
       "      <th>3</th>\n",
       "      <td>1</td>\n",
       "      <td>3</td>\n",
       "      <td>60</td>\n",
       "      <td>3</td>\n",
       "    </tr>\n",
       "    <tr>\n",
       "      <th>4</th>\n",
       "      <td>0</td>\n",
       "      <td>0</td>\n",
       "      <td>45</td>\n",
       "      <td>2</td>\n",
       "    </tr>\n",
       "  </tbody>\n",
       "</table>\n",
       "</div>"
      ],
      "text/plain": [
       "  kpr_aktif  jumlah_tanggungan rata_rata_overdue  risk_rating\n",
       "0         1                  5                90            4\n",
       "1         1                  5                90            4\n",
       "2         0                  0                30            1\n",
       "3         1                  3                60            3\n",
       "4         0                  0                45            2"
      ]
     },
     "metadata": {},
     "output_type": "display_data"
    }
   ],
   "source": [
    "# Menghapus kolom pendapatan_setahun_juta dan durasi_pinjaman_bulanan\n",
    "dataset = dataset.drop(columns=[\"pendapatan_setahun_juta\",\"durasi_pinjaman_bulan\"], axis=1)\n",
    "display(dataset.head())"
   ]
  },
  {
   "cell_type": "code",
   "execution_count": 9,
   "metadata": {},
   "outputs": [
    {
     "data": {
      "text/html": [
       "<div>\n",
       "<style scoped>\n",
       "    .dataframe tbody tr th:only-of-type {\n",
       "        vertical-align: middle;\n",
       "    }\n",
       "\n",
       "    .dataframe tbody tr th {\n",
       "        vertical-align: top;\n",
       "    }\n",
       "\n",
       "    .dataframe thead th {\n",
       "        text-align: right;\n",
       "    }\n",
       "</style>\n",
       "<table border=\"1\" class=\"dataframe\">\n",
       "  <thead>\n",
       "    <tr style=\"text-align: right;\">\n",
       "      <th></th>\n",
       "      <th>kpr_aktif</th>\n",
       "      <th>jumlah_tanggungan</th>\n",
       "      <th>rata_rata_overdue</th>\n",
       "    </tr>\n",
       "  </thead>\n",
       "  <tbody>\n",
       "    <tr>\n",
       "      <th>0</th>\n",
       "      <td>1</td>\n",
       "      <td>5</td>\n",
       "      <td>90</td>\n",
       "    </tr>\n",
       "    <tr>\n",
       "      <th>1</th>\n",
       "      <td>1</td>\n",
       "      <td>5</td>\n",
       "      <td>90</td>\n",
       "    </tr>\n",
       "    <tr>\n",
       "      <th>2</th>\n",
       "      <td>0</td>\n",
       "      <td>0</td>\n",
       "      <td>30</td>\n",
       "    </tr>\n",
       "    <tr>\n",
       "      <th>3</th>\n",
       "      <td>1</td>\n",
       "      <td>3</td>\n",
       "      <td>60</td>\n",
       "    </tr>\n",
       "    <tr>\n",
       "      <th>4</th>\n",
       "      <td>0</td>\n",
       "      <td>0</td>\n",
       "      <td>45</td>\n",
       "    </tr>\n",
       "  </tbody>\n",
       "</table>\n",
       "</div>"
      ],
      "text/plain": [
       "  kpr_aktif  jumlah_tanggungan rata_rata_overdue\n",
       "0         1                  5                90\n",
       "1         1                  5                90\n",
       "2         0                  0                30\n",
       "3         1                  3                60\n",
       "4         0                  0                45"
      ]
     },
     "metadata": {},
     "output_type": "display_data"
    },
    {
     "data": {
      "text/plain": [
       "0    4\n",
       "1    4\n",
       "2    1\n",
       "3    3\n",
       "4    2\n",
       "Name: risk_rating, dtype: category\n",
       "Categories (5, int64): [1, 2, 3, 4, 5]"
      ]
     },
     "metadata": {},
     "output_type": "display_data"
    },
    {
     "name": "stdout",
     "output_type": "stream",
     "text": [
      "492    2\n",
      "141    1\n",
      "409    3\n",
      "31     2\n",
      "570    4\n",
      "      ..\n",
      "408    1\n",
      "75     1\n",
      "778    1\n",
      "202    3\n",
      "181    3\n",
      "Name: risk_rating, Length: 180, dtype: category\n",
      "Categories (5, int64): [1, 2, 3, 4, 5]\n",
      "[2 1 3 2 4 4 1 3 3 5 1 2 5 2 3 3 1 3 3 4 2 3 3 1 5 3 3 3 3 3 2 3 5 3 1 4 4\n",
      " 4 4 2 4 1 1 2 5 3 5 2 1 1 2 5 1 1 2 5 1 3 3 3 4 2 3 5 5 3 3 3 4 1 5 4 2 1\n",
      " 1 4 3 3 3 5 1 2 3 2 4 3 1 3 2 1 2 3 2 2 3 1 2 5 5 1 1 1 3 1 5 4 3 5 2 2 3\n",
      " 3 1 1 2 1 4 4 2 2 5 4 3 1 4 1 3 1 1 5 1 1 1 3 3 2 5 3 1 4 3 5 3 5 2 3 1 2\n",
      " 2 3 3 3 3 4 5 3 3 4 3 1 2 1 1 1 2 1 3 1 4 2 1 1 4 2 2 1 1 1 3 3]\n"
     ]
    }
   ],
   "source": [
    "# Tahap Modelling dengan Algoritma Machine Learning - Naive Bayes - Part 1\n",
    "## Import Library\n",
    "from sklearn.naive_bayes import GaussianNB\n",
    "\n",
    "# Input variable x dengan kolom risk_rating, karena kolom risk_rating digunakan sebagai label, y (dependent)\n",
    "x = dataset.drop(columns=[\"risk_rating\"], axis=1)\n",
    "display(x.head())\n",
    "\n",
    "# Input variable y dengan drop kolom label\n",
    "y = dataset['risk_rating'].astype(\"category\")\n",
    "display(y.head())\n",
    "\n",
    "# Membagi data training dan data testing\n",
    "from sklearn.model_selection import train_test_split\n",
    "\n",
    "# Splitting data train 80% test 20%\n",
    "x_train, x_test, y_train, y_test = train_test_split(x, y, test_size=0.2, random_state=0)\n",
    "\n",
    "# Menjalankan data training dengan naive bayes\n",
    "model_nb = GaussianNB()\n",
    "model_nb.fit(x_train, y_train)\n",
    "\n",
    "# Menjalankan data testing\n",
    "y_predict = model_nb.predict(x_test)\n",
    "print(y_test)\n",
    "print(y_predict)"
   ]
  },
  {
   "cell_type": "code",
   "execution_count": 10,
   "metadata": {},
   "outputs": [
    {
     "name": "stdout",
     "output_type": "stream",
     "text": [
      "1.0\n"
     ]
    },
    {
     "data": {
      "image/png": "[encoded data removed]",
      "text/plain": [
       "<Figure size 640x480 with 2 Axes>"
      ]
     },
     "metadata": {},
     "output_type": "display_data"
    }
   ],
   "source": [
    "# Tahap Modelling dengan Algoritma Machine Learning - Naive Bayes - Part 2\n",
    "## Menampilkan akurasi Model\n",
    "from sklearn.metrics import accuracy_score\n",
    "print(accuracy_score(y_test, y_predict))\n",
    "\n",
    "# Melakukan evaluasi model dengan confusion matrix\n",
    "from sklearn.metrics import confusion_matrix\n",
    "cm = confusion_matrix(y_test, y_predict)\n",
    "sns.heatmap(\n",
    "  cm.T,\n",
    "  square=True,\n",
    "  annot=True,\n",
    "  cmap=\"Blues\"\n",
    ")\n",
    "plt.xlabel(\"true_label\")\n",
    "plt.ylabel(\"predict_label\")\n",
    "plt.show()"
   ]
  },
  {
   "cell_type": "code",
   "execution_count": 11,
   "metadata": {},
   "outputs": [
    {
     "name": "stdout",
     "output_type": "stream",
     "text": [
      "[2 1 3 2 4 4 1 3 3 5 1 2 5 2 3 3 1 3 3 4 2 3 3 1 5 3 3 3 3 3 2 3 5 3 1 4 4\n",
      " 4 4 2 4 1 1 2 5 3 5 2 1 1 2 5 1 1 2 5 1 3 3 3 4 2 3 5 5 3 3 3 4 1 5 4 2 1\n",
      " 1 4 3 3 3 5 1 2 3 2 4 3 1 3 2 1 2 3 2 2 3 1 2 5 5 1 1 1 3 1 5 4 3 5 2 2 3\n",
      " 3 1 1 2 1 4 4 2 2 5 4 3 1 4 1 3 1 1 5 1 1 1 3 3 2 5 3 1 4 3 5 3 5 2 3 1 2\n",
      " 2 3 3 3 3 4 5 3 3 4 3 1 2 1 1 1 2 1 3 1 4 2 1 1 4 2 2 1 1 1 3 3]\n"
     ]
    }
   ],
   "source": [
    "# Tahap Modelling dengan Algoritma Machine Learning K - Nearest Neighbor (KNN)\n",
    "## Import Library\n",
    "from sklearn.neighbors import KNeighborsClassifier\n",
    "\n",
    "## Membuat objek model_knn\n",
    "model_knn = KNeighborsClassifier(n_neighbors=5)\n",
    "model_knn.fit(x_train, y_train)\n",
    "\n",
    "# Menjalankan data testing\n",
    "y_predict = model_knn.predict(x_test)\n",
    "print(y_predict)"
   ]
  },
  {
   "cell_type": "code",
   "execution_count": 12,
   "metadata": {},
   "outputs": [
    {
     "name": "stdout",
     "output_type": "stream",
     "text": [
      "1.0\n"
     ]
    },
    {
     "data": {
      "image/png": "[encoded data removed]",
      "text/plain": [
       "<Figure size 640x480 with 2 Axes>"
      ]
     },
     "metadata": {},
     "output_type": "display_data"
    }
   ],
   "source": [
    "## Menampilkan Akurasi Model\n",
    "print(accuracy_score(y_test, y_predict))\n",
    "\n",
    "## Melakukan Evaluasi Model dengan Confusion Matrix\n",
    "cm = confusion_matrix(y_test, y_predict)\n",
    "sns.heatmap(\n",
    "  cm.T,\n",
    "  square=True,\n",
    "  annot=True,\n",
    "  cmap=\"Blues\"\n",
    ")\n",
    "plt.xlabel(\"true_label\")\n",
    "plt.ylabel(\"predicted_label\")\n",
    "plt.show()"
   ]
  },
  {
   "cell_type": "code",
   "execution_count": 18,
   "metadata": {},
   "outputs": [
    {
     "name": "stdout",
     "output_type": "stream",
     "text": [
      "Accuracy score:  0.8722222222222222\n"
     ]
    },
    {
     "data": {
      "image/png": "[encoded data removed]",
      "text/plain": [
       "<Figure size 640x480 with 2 Axes>"
      ]
     },
     "metadata": {},
     "output_type": "display_data"
    }
   ],
   "source": [
    "# Mini Project - Part 1\n",
    "## Import library LogisticRegression\n",
    "from sklearn.linear_model import LogisticRegression\n",
    "\n",
    "## Membuat object model_lr\n",
    "model_lr = LogisticRegression(solver='liblinear', random_state=0)\n",
    "model_lr.fit(x_train, y_train)\n",
    "\n",
    "## Menjalankan data testing\n",
    "y_predict = model_lr.predict(x_test)\n",
    "\n",
    "## Menampilkan akurasi model\n",
    "print(\"Accuracy score: \", accuracy_score(y_test, y_predict))\n",
    "\n",
    "## Melakukan evaluasi model dengan confusion matrix\n",
    "cm = confusion_matrix(y_test, y_predict)\n",
    "sns.heatmap(\n",
    "  cm.T,\n",
    "  square=True,\n",
    "  annot=True,\n",
    "  cmap=\"Blues\"\n",
    ")\n",
    "plt.xlabel(\"true_label\")\n",
    "plt.ylabel(\"predicted_label\")\n",
    "plt.show()\n"
   ]
  },
  {
   "cell_type": "code",
   "execution_count": null,
   "metadata": {},
   "outputs": [],
   "source": []
  }
 ],
 "metadata": {
  "kernelspec": {
   "display_name": "Python 3",
   "language": "python",
   "name": "python3"
  },
  "language_info": {
   "codemirror_mode": {
    "name": "ipython",
    "version": 3
   },
   "file_extension": ".py",
   "mimetype": "text/x-python",
   "name": "python",
   "nbconvert_exporter": "python",
   "pygments_lexer": "ipython3",
   "version": "3.11.2"
  }
 },
 "nbformat": 4,
 "nbformat_minor": 2
}
