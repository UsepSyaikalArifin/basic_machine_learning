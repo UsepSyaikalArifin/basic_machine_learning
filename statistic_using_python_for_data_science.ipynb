{
 "cells": [
  {
   "cell_type": "markdown",
   "metadata": {},
   "source": [
    "<h2>01. Pengenalan Statistika</h2>\n",
    "<ul>\n",
    "  <li>Definisi Statistika -> Ilmu yang mempelajari cara <strong>pengumpulan data</strong>, <strong>menganalisis data</strong> untuk mendapatkan kesimpulan informasi sampai dapat dijadikan <strong>pembuatan keputusan atau kebijakan</strong></li>\n",
    "  <p><strong>Kesimpulan</strong></p>\n",
    "  <ol>\n",
    "    <li>Bagaimana cara mengumpulkan data</li>\n",
    "    <li>Bagaimana cara menganalisa data</li>\n",
    "  </ol>\n",
    "  <p><strong>Statistika Deskriptif</strong></p>\n",
    "  <ol>\n",
    "    <li>Bagaimana cara mengorganisir data</li>\n",
    "    <li>Bagaimana cara membuat kesimpulan dari data</li>\n",
    "  </ol>\n",
    "  <p><strong>Cara Menyimpulkan Data</strong></p>\n",
    "  <ol>\n",
    "    <li>Membuat <strong>Grafik</strong></li>\n",
    "    <li>Menggunakan <strong>Angka</strong> seperti nilai <strong>mean</strong> data</li>\n",
    "  </ol>\n",
    "  <p><strong>Statistika Inferensial</strong></p>\n",
    "  <ol>\n",
    "    <li>Mengambil keputusan dari data yang sudah di olah</li>\n",
    "  </ol>\n",
    "</ul>"
   ]
  },
  {
   "cell_type": "markdown",
   "metadata": {},
   "source": [
    "<h2>02. Beberapa Konsep Dasar Statistika</h2>\n",
    "<h3>Populasi - Sampel - Observasi/Pengamatan</h3>\n",
    "<ol>\n",
    "  <li><strong>Observasi</strong> -> Suatu unit yang diukur dengan data</li>\n",
    "  <ul>\n",
    "    <li>Siswa</li>\n",
    "    <li>Warga Negara</li>\n",
    "    <li>Hewan</li>\n",
    "    <li>Kendaraan</li>\n",
    "  </ul>\n",
    "  <li><strong>Populasi</strong> -> Koleksi dari keseluruhan Observasi</li>\n",
    "  <ul>\n",
    "    <li>Semua siswa yang ada di sekolah</li>\n",
    "    <li>Semua warga negara Indonesia</li>\n",
    "    <li>Semua hewan yang ada di hutan lindung</li>\n",
    "    <li>Semua kendaraan di Jakarta</li>\n",
    "  </ul>\n",
    "  <li><strong>Sampel</strong> -> Sub koleksi dari populasi</li>\n",
    "  <ul>\n",
    "    <li>5 siswa dari masing - masing kelas di suatu sekolah</li>\n",
    "    <li>100 warga negara Indonesia yang diambil dari beberapa wilayah</li>\n",
    "    <li>Beberapa spesies hewan tertentu di suatu hutan lindung</li>\n",
    "    <li>3 jenis kendaraan di Jakarta</li>\n",
    "  </ul>\n",
    "</ol>"
   ]
  },
  {
   "cell_type": "markdown",
   "metadata": {},
   "source": [
    "<h2>03. Statistika & Parameter</h2>\n",
    "<ol>\n",
    "  <li><strong>Parameter</strong> -> Penjelasan atas populasi</li>\n",
    "    <ul>\n",
    "      <li>Mengukur revenue dari setiap orang di dalam segmen</li>\n",
    "    </ul>\n",
    "  <li><strong>Statistika</strong> -> Menjelaskan sampel dari populasi</li>\n",
    "    <ul>\n",
    "      <li>Mengambil 20% orang dari setiap segmen</li>\n",
    "    </ul>\n",
    "</ol>"
   ]
  },
  {
   "cell_type": "markdown",
   "metadata": {},
   "source": []
  }
 ],
 "metadata": {
  "language_info": {
   "name": "python"
  }
 },
 "nbformat": 4,
 "nbformat_minor": 2
}
