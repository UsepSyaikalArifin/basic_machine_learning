{
 "cells": [
  {
   "cell_type": "markdown",
   "metadata": {},
   "source": [
    "<h2>01. Pengenalan Statistika</h2>\n",
    "<ul>\n",
    "  <li>Definisi Statistika -> Ilmu yang mempelajari cara <strong>pengumpulan data</strong>, <strong>menganalisis data</strong> untuk mendapatkan kesimpulan informasi sampai dapat dijadikan <strong>pembuatan keputusan atau kebijakan</strong></li>\n",
    "  <p><strong>Kesimpulan</strong></p>\n",
    "  <ol>\n",
    "    <li>Bagaimana cara mengumpulkan data</li>\n",
    "    <li>Bagaimana cara menganalisa data</li>\n",
    "  </ol>\n",
    "  <p><strong>Statistika Deskriptif</strong></p>\n",
    "  <ol>\n",
    "    <li>Bagaimana cara mengorganisir data</li>\n",
    "    <li>Bagaimana cara membuat kesimpulan dari data</li>\n",
    "  </ol>\n",
    "  <p><strong>Cara Menyimpulkan Data</strong></p>\n",
    "  <ol>\n",
    "    <li>Membuat <strong>Grafik</strong></li>\n",
    "    <li>Menggunakan <strong>Angka</strong> seperti nilai <strong>mean</strong> data</li>\n",
    "  </ol>\n",
    "  <p><strong>Statistika Inferensial</strong></p>\n",
    "  <ol>\n",
    "    <li>Mengambil keputusan dari data yang sudah di olah</li>\n",
    "  </ol>\n",
    "</ul>"
   ]
  },
  {
   "cell_type": "markdown",
   "metadata": {},
   "source": []
  }
 ],
 "metadata": {
  "language_info": {
   "name": "python"
  }
 },
 "nbformat": 4,
 "nbformat_minor": 2
}
